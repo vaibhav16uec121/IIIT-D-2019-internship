{
 "cells": [
  {
   "cell_type": "code",
   "execution_count": null,
   "metadata": {},
   "outputs": [],
   "source": [
    "import tweepy\n",
    "import json\n",
    "import datetime\n",
    "import time\n"
   ]
  },
  {
   "cell_type": "code",
   "execution_count": null,
   "metadata": {},
   "outputs": [],
   "source": [
    "consumer_key = \"jWMFlGVO7aGQUx9dYX2XMrb3A\"\n",
    "consumer_secret = \"DuHH2qZWcp9AAaadvzKWADP0URpn7XuITJ9ytDjEE92mrv8y4n\"\n",
    "access_key = \"1114448490300469249-qTxcuH05R38ZyxlHg7Moa0ke4i8DlU\"\n",
    "access_secret = \"XQU5GDwshkSeHvd5Lad8EauVYJ15Uv6T1oKhmnM1zrmic\"\n"
   ]
  },
  {
   "cell_type": "code",
   "execution_count": null,
   "metadata": {},
   "outputs": [],
   "source": [
    "def get_tweets(username):\n",
    "\n",
    "    auth = tweepy.OAuthHandler(consumer_key, consumer_secret)\n",
    "\n",
    "    auth.set_access_token(access_key, access_secret)\n",
    "\n",
    "    api = tweepy.API(auth)\n",
    "\n",
    "    tweets = api.user_timeline(screen_name=username)\n",
    "    data = {}\n",
    "    data['iitd'] = []\n",
    "    c=0;\n",
    "    tweets_for_csv1 = [tweet.text for tweet in tweets]\n",
    "    tweets_for_csv2 = [tweet.created_at for tweet in tweets]\n",
    "    tweets_for_csv3 = [tweet.favorite_count for tweet in tweets]\n",
    "    tweets_for_csv4 = [tweet.retweet_count for tweet in tweets]\n",
    "    #tweets_for_csv5 = [tweet.entities['media'] for tweet in tweets]\n",
    "    try:\n",
    "        #True in [medium['type'] == 'photo' for medium in tweet.entities['media']]\n",
    "        for tweet in tweets \n",
    "\t    for medium in tweet.entities['media']\n",
    "\t        if(medium['type'] == 'photo')\n",
    "\t            c=c+1;\n",
    "            tweets_for_csv5 = [c]\n",
    "    except:\n",
    "        c=0;\t\n",
    "    \n",
    "    for i in range(len(tweets_for_csv1)):\n",
    "        data['iitd'].append({'text': tweets_for_csv1[i], 'date-time': tweets_for_csv2[i],\n",
    "        'likes': tweets_for_csv3[i], 'retweets': tweets_for_csv4[i], 'media': tweets_for_csv5[i]})\n",
    "\n",
    "    with open('data.txt', 'w') as outfile:  \n",
    "        json.dump(data, outfile)"
   ]
  },
  {
   "cell_type": "code",
   "execution_count": null,
   "metadata": {},
   "outputs": [],
   "source": [
    "if __name__ == '__main__':\n",
    "\n",
    "    get_tweets(\"midas@IIITD\")"
   ]
  }
 ],
 "metadata": {
  "kernelspec": {
   "display_name": "Python 3",
   "language": "python",
   "name": "python3"
  },
  "language_info": {
   "codemirror_mode": {
    "name": "ipython",
    "version": 2
   },
   "file_extension": ".py",
   "mimetype": "text/x-python",
   "name": "python",
   "nbconvert_exporter": "python",
   "pygments_lexer": "ipython2",
   "version": "2.7.15+"
  }
 },
 "nbformat": 4,
 "nbformat_minor": 2
}
